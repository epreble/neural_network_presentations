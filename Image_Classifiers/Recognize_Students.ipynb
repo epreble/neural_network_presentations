{
 "cells": [
  {
   "cell_type": "markdown",
   "metadata": {},
   "source": [
    "<a id='sectionTop'></a>\n",
    "# Image Classification Demo\n",
    "## ImageNet retrained using Inception_v3 architecture\n",
    "\n",
    "[1. Data Prep](#section1)<br>\n",
    "[2. Retrain Model](#section2)<br>\n",
    "[3. Test It!](#section3)<br>"
   ]
  },
  {
   "cell_type": "markdown",
   "metadata": {},
   "source": [
    "<a id='section1'></a><span style=\"float:right\">[Back to Top](#sectionTop)</span>\n",
    "# 1. Data Prep\n",
    "\n",
    "1. Capture 10 seconds each of video for 3 students. Same background.\n",
    "1. Capture 4 pictures of each student, 1 with same background, 3 different backgrounds.\n",
    "1. Transfer video/images from phone to laptop<br>\n",
    "    Connect Phone to Laptop, Copy files --> DCIM/Camera<br>\n",
    "    Copy videos/images to: Video_Files on desktop --> /Users/epreble/Desktop/Video_Files/<br>\n",
    "        Rename videos to <name>.mp4\n",
    "        Rename images to <name><#>.jpg\n",
    "1. Create \"students\" directory in /Users/epreble/tensorflow-for-poets-2/tf_files/\n",
    "1. Convert 3 videos from mp4 to jpg. 1 directory for each student will be created in \"students\""
   ]
  },
  {
   "cell_type": "code",
   "execution_count": null,
   "metadata": {},
   "outputs": [],
   "source": [
    "file_location = \"/Users/epreble/Desktop/Video_Files/\"\n",
    "output_image_path = '/Users/epreble/Documents/Pycharm/tensorflow-for-poets-2/tf_files/students/'\n",
    "name1 = \"name1\"\n",
    "name2 = \"name2\"\n",
    "name3 = \"name3\""
   ]
  },
  {
   "cell_type": "code",
   "execution_count": null,
   "metadata": {},
   "outputs": [],
   "source": [
    "import cv2\n",
    "import os\n",
    "\n",
    "def video_to_frames(video, path_output_dir):\n",
    "    # extract frames from a video and save to directory as 'x.png' where\n",
    "    # x is the frame index\n",
    "    vidcap = cv2.VideoCapture(video)\n",
    "    count = 0\n",
    "    while vidcap.isOpened():\n",
    "        success, image = vidcap.read()\n",
    "        if success:\n",
    "            cv2.imwrite(os.path.join(path_output_dir, '%d.jpg') % count, image)\n",
    "            print(os.path.join(path_output_dir, '%d.jpg') % count)\n",
    "            count += 1\n",
    "        else:\n",
    "            break\n",
    "    cv2.destroyAllWindows()\n",
    "    vidcap.release()"
   ]
  },
  {
   "cell_type": "code",
   "execution_count": null,
   "metadata": {},
   "outputs": [],
   "source": [
    "def create_dir_if_needed(dir_to_create):\n",
    "    # Create target Directory if don't exist\n",
    "    if not os.path.exists(dir_to_create):\n",
    "        os.mkdir(dir_to_create)\n",
    "        print(\"Directory \" , dir_to_create ,  \" Created \")\n",
    "    else:    \n",
    "        print(\"Directory \" , dir_to_create ,  \" already exists\")"
   ]
  },
  {
   "cell_type": "code",
   "execution_count": null,
   "metadata": {
    "scrolled": true
   },
   "outputs": [],
   "source": [
    "video_path = file_location + name1 + \".mp4\"\n",
    "split_video_path = output_image_path + name1\n",
    "\n",
    "create_dir_if_needed(split_video_path)\n",
    "\n",
    "video_to_frames(video_path, split_video_path)"
   ]
  },
  {
   "cell_type": "code",
   "execution_count": null,
   "metadata": {
    "scrolled": true
   },
   "outputs": [],
   "source": [
    "video_path = file_location + name2 + \".mp4\"\n",
    "split_video_path = output_image_path + name2\n",
    "\n",
    "create_dir_if_needed(split_video_path)\n",
    "\n",
    "video_to_frames(video_path, split_video_path)"
   ]
  },
  {
   "cell_type": "code",
   "execution_count": null,
   "metadata": {
    "scrolled": true
   },
   "outputs": [],
   "source": [
    "video_path = file_location + name3 + \".mp4\"\n",
    "split_video_path = output_image_path + name3\n",
    "\n",
    "create_dir_if_needed(split_video_path)\n",
    "\n",
    "video_to_frames(video_path, split_video_path)"
   ]
  },
  {
   "cell_type": "markdown",
   "metadata": {},
   "source": [
    "<a id='section2'></a><span style=\"float:right\">[Back to Top](#sectionTop)</span>\n",
    "# 2. Retrain Model"
   ]
  },
  {
   "cell_type": "markdown",
   "metadata": {},
   "source": [
    "1 min to do ~1000 bottlenecks\n",
    "<br>3 mins to train 4000 steps\n",
    "\n",
    "**Run this script to retrain the model with 4000 iterations**\n",
    "```\n",
    "source activate iaa\n",
    "cd /Users/epreble/Documents/Pycharm/tensorflow-for-poets-2\n",
    "IMAGE_SIZE=224\n",
    "ARCHITECTURE=\"mobilenet_0.50_${IMAGE_SIZE}\"\n",
    "python -m scripts.retrain \\\n",
    "  --bottleneck_dir=tf_files/bottlenecks \\\n",
    "  --model_dir=tf_files/models/\"${ARCHITECTURE}\" \\\n",
    "  --summaries_dir=tf_files/training_summaries/\"${ARCHITECTURE}\" \\\n",
    "  --output_graph=tf_files/students.pb \\\n",
    "  --output_labels=tf_files/students.txt \\\n",
    "  --architecture=\"${ARCHITECTURE}\" \\\n",
    "  --image_dir=tf_files/students```"
   ]
  },
  {
   "cell_type": "markdown",
   "metadata": {},
   "source": [
    "<a id='section3'></a><span style=\"float:right\">[Back to Top](#sectionTop)</span>\n",
    "# 3. Test it!"
   ]
  },
  {
   "cell_type": "markdown",
   "metadata": {},
   "source": [
    "```\n",
    "python -m scripts.label_image \\\n",
    "    --graph=tf_files/students.pb  \\\n",
    "    --labels=tf_files/students.txt  \\\n",
    "    --image=/Users/epreble/Desktop/Video_Files/name1.jpg```"
   ]
  },
  {
   "cell_type": "code",
   "execution_count": null,
   "metadata": {},
   "outputs": [],
   "source": []
  }
 ],
 "metadata": {
  "kernelspec": {
   "display_name": "Python 3",
   "language": "python",
   "name": "python3"
  },
  "language_info": {
   "codemirror_mode": {
    "name": "ipython",
    "version": 3
   },
   "file_extension": ".py",
   "mimetype": "text/x-python",
   "name": "python",
   "nbconvert_exporter": "python",
   "pygments_lexer": "ipython3",
   "version": "3.6.6"
  }
 },
 "nbformat": 4,
 "nbformat_minor": 2
}

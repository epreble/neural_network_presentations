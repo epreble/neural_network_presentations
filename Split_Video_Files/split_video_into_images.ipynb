{
 "cells": [
  {
   "cell_type": "code",
   "execution_count": null,
   "metadata": {},
   "outputs": [],
   "source": [
    "#MP4 Video Splitter\n",
    "\n",
    "import cv2  # pip install opencv-contrib-python\n",
    "import os\n",
    "\n",
    "# https://stackoverflow.com/questions/30136257/how-to-get-image-from-video-using-opencv-python\n",
    "def video_to_frames(video, path_output_dir):\n",
    "    # extract frames from a video and save to directory as 'x.jpg' where\n",
    "    # x is the frame index\n",
    "    vidcap = cv2.VideoCapture(video)\n",
    "    count = 0\n",
    "    while vidcap.isOpened():\n",
    "        success, image = vidcap.read()\n",
    "        if success:\n",
    "            cv2.imwrite(os.path.join(path_output_dir, '%d.jpg') % count, image)\n",
    "            print(os.path.join(path_output_dir, '%d.jpg') % count)\n",
    "            count += 1\n",
    "        else:\n",
    "            break\n",
    "    cv2.destroyAllWindows()\n",
    "    vidcap.release()"
   ]
  },
  {
   "cell_type": "code",
   "execution_count": null,
   "metadata": {},
   "outputs": [],
   "source": [
    "input_video = \"/Users/epreble/Desktop/name1.mp4\"\n",
    "output_location = '/Users/epreble/Desktop/name1/'"
   ]
  },
  {
   "cell_type": "code",
   "execution_count": null,
   "metadata": {
    "scrolled": true
   },
   "outputs": [],
   "source": [
    "video_to_frames(input_video, output_location)"
   ]
  },
  {
   "cell_type": "code",
   "execution_count": null,
   "metadata": {},
   "outputs": [],
   "source": []
  }
 ],
 "metadata": {
  "kernelspec": {
   "display_name": "Python 3",
   "language": "python",
   "name": "python3"
  },
  "language_info": {
   "codemirror_mode": {
    "name": "ipython",
    "version": 3
   },
   "file_extension": ".py",
   "mimetype": "text/x-python",
   "name": "python",
   "nbconvert_exporter": "python",
   "pygments_lexer": "ipython3",
   "version": "3.6.12"
  }
 },
 "nbformat": 4,
 "nbformat_minor": 4
}
